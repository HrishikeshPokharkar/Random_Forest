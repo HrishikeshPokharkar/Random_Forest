{
  "nbformat": 4,
  "nbformat_minor": 0,
  "metadata": {
    "colab": {
      "provenance": []
    },
    "kernelspec": {
      "name": "python3",
      "display_name": "Python 3"
    },
    "language_info": {
      "name": "python"
    }
  },
  "cells": [
    {
      "cell_type": "markdown",
      "source": [
        "# Random Forest"
      ],
      "metadata": {
        "id": "YvMEVZd9iyG8"
      }
    },
    {
      "cell_type": "markdown",
      "metadata": {
        "id": "YdVgr1-aZihs"
      },
      "source": [
        "---\n",
        "# **Table of Contents**\n",
        "---\n",
        "\n",
        "**1.** [**Introduction**](#Section1)<br>\n",
        "**2.** [**Problem Statement**](#Section2)<br>\n",
        "**3.** [**Installing & Importing Libraries**](#Section3)<br>\n",
        "  - **3.1** [**Installing Libraries**](#Section31)\n",
        "  - **3.2** [**Upgrading Libraries**](#Section32)\n",
        "  - **3.3** [**Importing Libraries**](#Section33)\n",
        "\n",
        "**4.** [**Data Acquisition & Description**](#Section4)<br>\n",
        "  - **4.1** [**Data Description**](#Section41)\n",
        "  - **4.2** [**Data Information**](#Section42)\n",
        "\n",
        "**5.** [**Data Pre-processing**](#Section5)<br>\n",
        "  - **5.1** [**Pre-Profiling Report**](#Section51)<br>\n",
        "  - **5.2** [**Post-Profiling Report**](#Section52)<br>\n",
        "\n",
        "**6.** [**Exploratory Data Analysis**](#Section6)<br>\n",
        "**7.** [**Data Post-Processing**](#Section7)<br>\n",
        "**8.** [**Model Development & Evaluation**](#Section8)<br>\n",
        "  - **8.1** [**Base Model Development & Evaluation**](#Section81)<br>\n",
        "  - **8.2** [**Hyperparameter Tuning**](#Section82)<br>\n",
        "  - **8.3** [**Tuned Model Development & Evaluation**](#Section83)<br>\n",
        "\n",
        "**9.** [**Conclusion**](#Section9)<br>"
      ]
    },
    {
      "cell_type": "markdown",
      "metadata": {
        "id": "LvwK1yHrZ0f5"
      },
      "source": [
        "---\n",
        "<a name = Section1></a>\n",
        "# **1. Introduction**\n",
        "---\n",
        "\n",
        "- Random forest consists of a **large number** of **individual decision trees** that operate as an ensemble.\n",
        "\n",
        "- **Each individual tree** in the random forest **spits out a class prediction** and the **class** with the **most votes** becomes our model’s **prediction**.\n",
        "\n",
        "- The fundamental concept behind random forest is  — **the wisdom of crowds**.\n",
        "\n",
        "-  In data science speak, the reason that the random forest model works so well is:\n",
        "\n",
        "### **<center>*A large number of relatively uncorrelated models (trees) operating as a committee will outperform any of the individual constituent models.*</center>**\n",
        "\n",
        "<center><img src=\"https://1.bp.blogspot.com/-Ax59WK4DE8w/YK6o9bt_9jI/AAAAAAAAEQA/9KbBf9cdL6kOFkJnU39aUn4m8ydThPenwCLcBGAsYHQ/s0/Random%2BForest%2B03.gif\" width=50%></center>\n",
        "\n",
        "- **Uncorrelated models** can produce ensemble predictions that are **more accurate** than any of the **individual** predictions.\n",
        "\n",
        "- The reason for this wonderful effect is that the **trees protect each other** from their **individual errors**.\n",
        "\n",
        "- While **some** trees may be **wrong**, **many** other trees will be **right**, so as a **group** the trees are able to move in the **correct direction**.\n"
      ]
    },
    {
      "cell_type": "markdown",
      "metadata": {
        "id": "z-SF3dcRaV14"
      },
      "source": [
        "---\n",
        "<a name = Section2></a>\n",
        "# **2. Problem Statement**\n",
        "---\n",
        "\n",
        "- A university has their **MBA placement period** coming up.\n",
        "\n",
        "- Even though having a good track record of placements, the previous academic year had an **abberant placement record**.\n",
        "\n",
        "- They don't want to observe a similar scenario this year and **want to predict** the situation of this year's placements.\n",
        "\n",
        "<center><img src=\"https://institute.careerguide.com/wp-content/uploads/2020/09/mdm_robot.gif\" width=50%></center>\n",
        "\n",
        "- They have hired a data scientist to carry out this task. Let's say the data scientist is you.\n",
        "\n",
        "- You have been provided with a **historical data** of **previous year's students** who were a part of placements.\n",
        "\n",
        "- Your task to provide an **analysis on factors** affecting the placements and **develop a model** to predict if a student will be placed or not.\n"
      ]
    },
    {
      "cell_type": "markdown",
      "metadata": {
        "id": "k5T9XBDAaikg"
      },
      "source": [
        "---\n",
        "<a name = Section3></a>\n",
        "# **3. Installing & Importing Libraries**\n",
        "---"
      ]
    },
    {
      "cell_type": "markdown",
      "metadata": {
        "id": "drocKDJ2amBg"
      },
      "source": [
        "<a name = Section31></a>\n",
        "### **3.1 Installing Libraries**"
      ]
    },
    {
      "cell_type": "code",
      "metadata": {
        "id": "OnkW7DSeZRWB"
      },
      "source": [
        "# !pip install -q datascience                                         # Package that is required by pandas profiling\n",
        "# !pip install -q pandas-profiling                                    # Library to generate basic statistics about data\n",
        "# !pip install -q yellowbrick                                         # Toolbox for Measuring Machine Performance"
      ],
      "execution_count": null,
      "outputs": []
    },
    {
      "cell_type": "markdown",
      "metadata": {
        "id": "3QmMddCSaozh"
      },
      "source": [
        "<a name = Section32></a>\n",
        "### **3.2 Upgrading Libraries**\n",
        "\n",
        "- **After upgrading** the libraries, you need to **restart the runtime** to make the libraries in sync.\n",
        "\n",
        "- Make sure not to execute the cell above (3.1) and below (3.2) again after restarting the runtime."
      ]
    },
    {
      "cell_type": "code",
      "metadata": {
        "id": "EEv5mic6aop0"
      },
      "source": [
        "# !pip install -q --upgrade pandas-profiling\n",
        "# !pip install -q --upgrade yellowbrick"
      ],
      "execution_count": null,
      "outputs": []
    },
    {
      "cell_type": "markdown",
      "metadata": {
        "id": "2Kfl3PunatnY"
      },
      "source": [
        "<a name = Section33></a>\n",
        "### **3.3 Importing Libraries**"
      ]
    },
    {
      "cell_type": "code",
      "metadata": {
        "id": "bl9dW2NRaom8"
      },
      "source": [
        "#-------------------------------------------------------------------------------------------------------------------------------\n",
        "import pandas as pd                                                 # Importing for panel data analysis\n",
        "from pandas_profiling import ProfileReport                          # Import Pandas Profiling (To generate Univariate Analysis)\n",
        "pd.set_option('display.max_columns', None)                          # Unfolding hidden features if the cardinality is high\n",
        "pd.set_option('display.max_colwidth', None)                         # Unfolding the max feature width for better clearity\n",
        "pd.set_option('display.max_rows', None)                             # Unfolding hidden data points if the cardinality is high\n",
        "pd.set_option('mode.chained_assignment', None)                      # Removing restriction over chained assignments operations\n",
        "pd.set_option('display.float_format', lambda x: '%.2f' % x)         # To suppress scientific notation over exponential values\n",
        "#-------------------------------------------------------------------------------------------------------------------------------\n",
        "import numpy as np                                                  # Importing package numpys (For Numerical Python)\n",
        "#-------------------------------------------------------------------------------------------------------------------------------\n",
        "import matplotlib.pyplot as plt                                     # Importing pyplot interface using matplotlib\n",
        "import seaborn as sns                                               # Importin seaborm library for interactive visualization\n",
        "%matplotlib inline\n",
        "#-------------------------------------------------------------------------------------------------------------------------------\n",
        "from sklearn.model_selection import train_test_split                # To split the data into train and test datasets\n",
        "from sklearn.preprocessing import StandardScaler                    # Importing Standard Scaler library from preprocessing.\n",
        "from sklearn.ensemble import RandomForestClassifier                 # To instantiate a Logistic Regression Model\n",
        "from sklearn.metrics import accuracy_score                          # To calculate the accuracy of a classifier\n",
        "from sklearn.metrics import precision_score                         # To calculate the precision of a classifier\n",
        "from sklearn.metrics import recall_score                            # To calculate the recall of a classifier\n",
        "from sklearn.metrics import f1_score                                # To calculate the f1-score of a classifier\n",
        "from sklearn.model_selection import GridSearchCV                    # To tune the model\n",
        "from sklearn.model_selection import cross_validate                  # To cross-validate the model\n",
        "#-------------------------------------------------------------------------------------------------------------------------------\n",
        "import warnings                                                     # Importing warning to disable runtime warnings\n",
        "warnings.filterwarnings(\"ignore\")                                   # Warnings will appear only once"
      ],
      "execution_count": null,
      "outputs": []
    },
    {
      "cell_type": "markdown",
      "metadata": {
        "id": "17HjjOUVa2BR"
      },
      "source": [
        "---\n",
        "<a name = Section4></a>\n",
        "# **4. Data Acquisition & Description**\n",
        "---\n",
        "\n",
        "- This data set consists of **Placement** data of students in a campus.\n",
        "\n",
        "- It includes **secondary** and **higher secondary** school **percentage** and **specialization**.\n",
        "\n",
        "- It also includes **degree specialization**, **type** and **work experience** and **salary offerd** to the placed students.\n",
        "\n",
        "</br>\n",
        "\n",
        "| Records | Features | Dataset Size |\n",
        "| :-- | :-- | :-- |\n",
        "| 215 | 15 | 20 KB|\n",
        "\n",
        "</br>\n",
        "\n",
        "| Id | Features | Description |\n",
        "| :-- | :-- | :-- |\n",
        "| 01 | **sl_no** | Serial Number |\n",
        "| 02 | **gender** | Gender |\n",
        "| 03 | **ssc_p** | SSC Percentage |\n",
        "| 04 | **ssc_b** | SSC Board (Central or Others |\n",
        "| 05 | **hsc_p** | HSC Percentage |\n",
        "| 06 | **hsc_s** | HSC Stream |\n",
        "| 07 | **hsc_b** | HSC Board (Central or Others |\n",
        "| 08 | **degree_p** | Undergraduate degree Percentage |\n",
        "| 09 | **degree_t** | Undergraduate Stream |\n",
        "| 10 |**workex**| Previous Work Experience (Yes or No) |\n",
        "| 11 |**etest_p**| Employability Test Percentage |\n",
        "| 12 |**specialisation**| MBA Specialisation |\n",
        "| 13 |**mba_p**| MBA Percentage |\n",
        "| 14 |**status**| Status (Placed or Not Placed) |\n",
        "| 15 |**salary**| Salary (if Placed) |"
      ]
    },
    {
      "cell_type": "code",
      "metadata": {
        "id": "cCg5kJuvaokI",
        "colab": {
          "base_uri": "https://localhost:8080/",
          "height": 224
        },
        "outputId": "d5cdb573-72b2-421c-9b8a-8c1ca09de278"
      },
      "source": [
        "data = pd.read_csv(filepath_or_buffer='https://raw.githubusercontent.com/insaid2018/Term-3/master/Data/Assignment/Placement_Data_Full_Class.csv')\n",
        "print('Data Shape:', data.shape)\n",
        "data.head()"
      ],
      "execution_count": null,
      "outputs": [
        {
          "output_type": "stream",
          "name": "stdout",
          "text": [
            "Data Shape: (215, 15)\n"
          ]
        },
        {
          "output_type": "execute_result",
          "data": {
            "text/plain": [
              "   sl_no gender  ssc_p    ssc_b  hsc_p    hsc_b     hsc_s  degree_p  \\\n",
              "0      1      M  67.00   Others  91.00   Others  Commerce     58.00   \n",
              "1      2      M  79.33  Central  78.33   Others   Science     77.48   \n",
              "2      3      M  65.00  Central  68.00  Central      Arts     64.00   \n",
              "3      4      M  56.00  Central  52.00  Central   Science     52.00   \n",
              "4      5      M  85.80  Central  73.60  Central  Commerce     73.30   \n",
              "\n",
              "    degree_t workex  etest_p specialisation  mba_p      status    salary  \n",
              "0   Sci&Tech     No    55.00         Mkt&HR  58.80      Placed 270000.00  \n",
              "1   Sci&Tech    Yes    86.50        Mkt&Fin  66.28      Placed 200000.00  \n",
              "2  Comm&Mgmt     No    75.00        Mkt&Fin  57.80      Placed 250000.00  \n",
              "3   Sci&Tech     No    66.00         Mkt&HR  59.43  Not Placed       NaN  \n",
              "4  Comm&Mgmt     No    96.80        Mkt&Fin  55.50      Placed 425000.00  "
            ],
            "text/html": [
              "\n",
              "  <div id=\"df-46b75b07-9ff9-42e2-876f-bb8977184345\">\n",
              "    <div class=\"colab-df-container\">\n",
              "      <div>\n",
              "<style scoped>\n",
              "    .dataframe tbody tr th:only-of-type {\n",
              "        vertical-align: middle;\n",
              "    }\n",
              "\n",
              "    .dataframe tbody tr th {\n",
              "        vertical-align: top;\n",
              "    }\n",
              "\n",
              "    .dataframe thead th {\n",
              "        text-align: right;\n",
              "    }\n",
              "</style>\n",
              "<table border=\"1\" class=\"dataframe\">\n",
              "  <thead>\n",
              "    <tr style=\"text-align: right;\">\n",
              "      <th></th>\n",
              "      <th>sl_no</th>\n",
              "      <th>gender</th>\n",
              "      <th>ssc_p</th>\n",
              "      <th>ssc_b</th>\n",
              "      <th>hsc_p</th>\n",
              "      <th>hsc_b</th>\n",
              "      <th>hsc_s</th>\n",
              "      <th>degree_p</th>\n",
              "      <th>degree_t</th>\n",
              "      <th>workex</th>\n",
              "      <th>etest_p</th>\n",
              "      <th>specialisation</th>\n",
              "      <th>mba_p</th>\n",
              "      <th>status</th>\n",
              "      <th>salary</th>\n",
              "    </tr>\n",
              "  </thead>\n",
              "  <tbody>\n",
              "    <tr>\n",
              "      <th>0</th>\n",
              "      <td>1</td>\n",
              "      <td>M</td>\n",
              "      <td>67.00</td>\n",
              "      <td>Others</td>\n",
              "      <td>91.00</td>\n",
              "      <td>Others</td>\n",
              "      <td>Commerce</td>\n",
              "      <td>58.00</td>\n",
              "      <td>Sci&amp;Tech</td>\n",
              "      <td>No</td>\n",
              "      <td>55.00</td>\n",
              "      <td>Mkt&amp;HR</td>\n",
              "      <td>58.80</td>\n",
              "      <td>Placed</td>\n",
              "      <td>270000.00</td>\n",
              "    </tr>\n",
              "    <tr>\n",
              "      <th>1</th>\n",
              "      <td>2</td>\n",
              "      <td>M</td>\n",
              "      <td>79.33</td>\n",
              "      <td>Central</td>\n",
              "      <td>78.33</td>\n",
              "      <td>Others</td>\n",
              "      <td>Science</td>\n",
              "      <td>77.48</td>\n",
              "      <td>Sci&amp;Tech</td>\n",
              "      <td>Yes</td>\n",
              "      <td>86.50</td>\n",
              "      <td>Mkt&amp;Fin</td>\n",
              "      <td>66.28</td>\n",
              "      <td>Placed</td>\n",
              "      <td>200000.00</td>\n",
              "    </tr>\n",
              "    <tr>\n",
              "      <th>2</th>\n",
              "      <td>3</td>\n",
              "      <td>M</td>\n",
              "      <td>65.00</td>\n",
              "      <td>Central</td>\n",
              "      <td>68.00</td>\n",
              "      <td>Central</td>\n",
              "      <td>Arts</td>\n",
              "      <td>64.00</td>\n",
              "      <td>Comm&amp;Mgmt</td>\n",
              "      <td>No</td>\n",
              "      <td>75.00</td>\n",
              "      <td>Mkt&amp;Fin</td>\n",
              "      <td>57.80</td>\n",
              "      <td>Placed</td>\n",
              "      <td>250000.00</td>\n",
              "    </tr>\n",
              "    <tr>\n",
              "      <th>3</th>\n",
              "      <td>4</td>\n",
              "      <td>M</td>\n",
              "      <td>56.00</td>\n",
              "      <td>Central</td>\n",
              "      <td>52.00</td>\n",
              "      <td>Central</td>\n",
              "      <td>Science</td>\n",
              "      <td>52.00</td>\n",
              "      <td>Sci&amp;Tech</td>\n",
              "      <td>No</td>\n",
              "      <td>66.00</td>\n",
              "      <td>Mkt&amp;HR</td>\n",
              "      <td>59.43</td>\n",
              "      <td>Not Placed</td>\n",
              "      <td>NaN</td>\n",
              "    </tr>\n",
              "    <tr>\n",
              "      <th>4</th>\n",
              "      <td>5</td>\n",
              "      <td>M</td>\n",
              "      <td>85.80</td>\n",
              "      <td>Central</td>\n",
              "      <td>73.60</td>\n",
              "      <td>Central</td>\n",
              "      <td>Commerce</td>\n",
              "      <td>73.30</td>\n",
              "      <td>Comm&amp;Mgmt</td>\n",
              "      <td>No</td>\n",
              "      <td>96.80</td>\n",
              "      <td>Mkt&amp;Fin</td>\n",
              "      <td>55.50</td>\n",
              "      <td>Placed</td>\n",
              "      <td>425000.00</td>\n",
              "    </tr>\n",
              "  </tbody>\n",
              "</table>\n",
              "</div>\n",
              "      <button class=\"colab-df-convert\" onclick=\"convertToInteractive('df-46b75b07-9ff9-42e2-876f-bb8977184345')\"\n",
              "              title=\"Convert this dataframe to an interactive table.\"\n",
              "              style=\"display:none;\">\n",
              "        \n",
              "  <svg xmlns=\"http://www.w3.org/2000/svg\" height=\"24px\"viewBox=\"0 0 24 24\"\n",
              "       width=\"24px\">\n",
              "    <path d=\"M0 0h24v24H0V0z\" fill=\"none\"/>\n",
              "    <path d=\"M18.56 5.44l.94 2.06.94-2.06 2.06-.94-2.06-.94-.94-2.06-.94 2.06-2.06.94zm-11 1L8.5 8.5l.94-2.06 2.06-.94-2.06-.94L8.5 2.5l-.94 2.06-2.06.94zm10 10l.94 2.06.94-2.06 2.06-.94-2.06-.94-.94-2.06-.94 2.06-2.06.94z\"/><path d=\"M17.41 7.96l-1.37-1.37c-.4-.4-.92-.59-1.43-.59-.52 0-1.04.2-1.43.59L10.3 9.45l-7.72 7.72c-.78.78-.78 2.05 0 2.83L4 21.41c.39.39.9.59 1.41.59.51 0 1.02-.2 1.41-.59l7.78-7.78 2.81-2.81c.8-.78.8-2.07 0-2.86zM5.41 20L4 18.59l7.72-7.72 1.47 1.35L5.41 20z\"/>\n",
              "  </svg>\n",
              "      </button>\n",
              "      \n",
              "  <style>\n",
              "    .colab-df-container {\n",
              "      display:flex;\n",
              "      flex-wrap:wrap;\n",
              "      gap: 12px;\n",
              "    }\n",
              "\n",
              "    .colab-df-convert {\n",
              "      background-color: #E8F0FE;\n",
              "      border: none;\n",
              "      border-radius: 50%;\n",
              "      cursor: pointer;\n",
              "      display: none;\n",
              "      fill: #1967D2;\n",
              "      height: 32px;\n",
              "      padding: 0 0 0 0;\n",
              "      width: 32px;\n",
              "    }\n",
              "\n",
              "    .colab-df-convert:hover {\n",
              "      background-color: #E2EBFA;\n",
              "      box-shadow: 0px 1px 2px rgba(60, 64, 67, 0.3), 0px 1px 3px 1px rgba(60, 64, 67, 0.15);\n",
              "      fill: #174EA6;\n",
              "    }\n",
              "\n",
              "    [theme=dark] .colab-df-convert {\n",
              "      background-color: #3B4455;\n",
              "      fill: #D2E3FC;\n",
              "    }\n",
              "\n",
              "    [theme=dark] .colab-df-convert:hover {\n",
              "      background-color: #434B5C;\n",
              "      box-shadow: 0px 1px 3px 1px rgba(0, 0, 0, 0.15);\n",
              "      filter: drop-shadow(0px 1px 2px rgba(0, 0, 0, 0.3));\n",
              "      fill: #FFFFFF;\n",
              "    }\n",
              "  </style>\n",
              "\n",
              "      <script>\n",
              "        const buttonEl =\n",
              "          document.querySelector('#df-46b75b07-9ff9-42e2-876f-bb8977184345 button.colab-df-convert');\n",
              "        buttonEl.style.display =\n",
              "          google.colab.kernel.accessAllowed ? 'block' : 'none';\n",
              "\n",
              "        async function convertToInteractive(key) {\n",
              "          const element = document.querySelector('#df-46b75b07-9ff9-42e2-876f-bb8977184345');\n",
              "          const dataTable =\n",
              "            await google.colab.kernel.invokeFunction('convertToInteractive',\n",
              "                                                     [key], {});\n",
              "          if (!dataTable) return;\n",
              "\n",
              "          const docLinkHtml = 'Like what you see? Visit the ' +\n",
              "            '<a target=\"_blank\" href=https://colab.research.google.com/notebooks/data_table.ipynb>data table notebook</a>'\n",
              "            + ' to learn more about interactive tables.';\n",
              "          element.innerHTML = '';\n",
              "          dataTable['output_type'] = 'display_data';\n",
              "          await google.colab.output.renderOutput(dataTable, element);\n",
              "          const docLink = document.createElement('div');\n",
              "          docLink.innerHTML = docLinkHtml;\n",
              "          element.appendChild(docLink);\n",
              "        }\n",
              "      </script>\n",
              "    </div>\n",
              "  </div>\n",
              "  "
            ]
          },
          "metadata": {},
          "execution_count": 3
        }
      ]
    },
    {
      "cell_type": "markdown",
      "metadata": {
        "id": "jTHzKhlGbZN5"
      },
      "source": [
        "<a name = Section41></a>\n",
        "### **4.1 Data Description**\n",
        "\n",
        "- In this section we will get **information about the data** and see some observations."
      ]
    },
    {
      "cell_type": "code",
      "metadata": {
        "id": "5WOdH51iaobL",
        "colab": {
          "base_uri": "https://localhost:8080/",
          "height": 299
        },
        "outputId": "0d7c09bc-850f-4b96-d833-608bc625656c"
      },
      "source": [
        "data.describe()"
      ],
      "execution_count": null,
      "outputs": [
        {
          "output_type": "execute_result",
          "data": {
            "text/html": [
              "<div>\n",
              "<style scoped>\n",
              "    .dataframe tbody tr th:only-of-type {\n",
              "        vertical-align: middle;\n",
              "    }\n",
              "\n",
              "    .dataframe tbody tr th {\n",
              "        vertical-align: top;\n",
              "    }\n",
              "\n",
              "    .dataframe thead th {\n",
              "        text-align: right;\n",
              "    }\n",
              "</style>\n",
              "<table border=\"1\" class=\"dataframe\">\n",
              "  <thead>\n",
              "    <tr style=\"text-align: right;\">\n",
              "      <th></th>\n",
              "      <th>sl_no</th>\n",
              "      <th>ssc_p</th>\n",
              "      <th>hsc_p</th>\n",
              "      <th>degree_p</th>\n",
              "      <th>etest_p</th>\n",
              "      <th>mba_p</th>\n",
              "      <th>salary</th>\n",
              "    </tr>\n",
              "  </thead>\n",
              "  <tbody>\n",
              "    <tr>\n",
              "      <th>count</th>\n",
              "      <td>215.00</td>\n",
              "      <td>215.00</td>\n",
              "      <td>215.00</td>\n",
              "      <td>215.00</td>\n",
              "      <td>215.00</td>\n",
              "      <td>215.00</td>\n",
              "      <td>148.00</td>\n",
              "    </tr>\n",
              "    <tr>\n",
              "      <th>mean</th>\n",
              "      <td>108.00</td>\n",
              "      <td>67.30</td>\n",
              "      <td>66.33</td>\n",
              "      <td>66.37</td>\n",
              "      <td>72.10</td>\n",
              "      <td>62.28</td>\n",
              "      <td>288655.41</td>\n",
              "    </tr>\n",
              "    <tr>\n",
              "      <th>std</th>\n",
              "      <td>62.21</td>\n",
              "      <td>10.83</td>\n",
              "      <td>10.90</td>\n",
              "      <td>7.36</td>\n",
              "      <td>13.28</td>\n",
              "      <td>5.83</td>\n",
              "      <td>93457.45</td>\n",
              "    </tr>\n",
              "    <tr>\n",
              "      <th>min</th>\n",
              "      <td>1.00</td>\n",
              "      <td>40.89</td>\n",
              "      <td>37.00</td>\n",
              "      <td>50.00</td>\n",
              "      <td>50.00</td>\n",
              "      <td>51.21</td>\n",
              "      <td>200000.00</td>\n",
              "    </tr>\n",
              "    <tr>\n",
              "      <th>25%</th>\n",
              "      <td>54.50</td>\n",
              "      <td>60.60</td>\n",
              "      <td>60.90</td>\n",
              "      <td>61.00</td>\n",
              "      <td>60.00</td>\n",
              "      <td>57.95</td>\n",
              "      <td>240000.00</td>\n",
              "    </tr>\n",
              "    <tr>\n",
              "      <th>50%</th>\n",
              "      <td>108.00</td>\n",
              "      <td>67.00</td>\n",
              "      <td>65.00</td>\n",
              "      <td>66.00</td>\n",
              "      <td>71.00</td>\n",
              "      <td>62.00</td>\n",
              "      <td>265000.00</td>\n",
              "    </tr>\n",
              "    <tr>\n",
              "      <th>75%</th>\n",
              "      <td>161.50</td>\n",
              "      <td>75.70</td>\n",
              "      <td>73.00</td>\n",
              "      <td>72.00</td>\n",
              "      <td>83.50</td>\n",
              "      <td>66.25</td>\n",
              "      <td>300000.00</td>\n",
              "    </tr>\n",
              "    <tr>\n",
              "      <th>max</th>\n",
              "      <td>215.00</td>\n",
              "      <td>89.40</td>\n",
              "      <td>97.70</td>\n",
              "      <td>91.00</td>\n",
              "      <td>98.00</td>\n",
              "      <td>77.89</td>\n",
              "      <td>940000.00</td>\n",
              "    </tr>\n",
              "  </tbody>\n",
              "</table>\n",
              "</div>"
            ],
            "text/plain": [
              "       sl_no  ssc_p  hsc_p  degree_p  etest_p  mba_p    salary\n",
              "count 215.00 215.00 215.00    215.00   215.00 215.00    148.00\n",
              "mean  108.00  67.30  66.33     66.37    72.10  62.28 288655.41\n",
              "std    62.21  10.83  10.90      7.36    13.28   5.83  93457.45\n",
              "min     1.00  40.89  37.00     50.00    50.00  51.21 200000.00\n",
              "25%    54.50  60.60  60.90     61.00    60.00  57.95 240000.00\n",
              "50%   108.00  67.00  65.00     66.00    71.00  62.00 265000.00\n",
              "75%   161.50  75.70  73.00     72.00    83.50  66.25 300000.00\n",
              "max   215.00  89.40  97.70     91.00    98.00  77.89 940000.00"
            ]
          },
          "metadata": {
            "tags": []
          },
          "execution_count": 7
        }
      ]
    },
    {
      "cell_type": "markdown",
      "metadata": {
        "id": "Rtvu33c3beIA"
      },
      "source": [
        "**Observations:**\n",
        "\n",
        "- **SSC Percentage** ranges from **40.89% upto 89.40%** averaging at **67.30%**.\n",
        "\n",
        "- **HSC Percentage** ranges from **37.00% upto 97.70%** averaging at **66.33%**.\n",
        "\n",
        "- **Degree Precentage** Percentage ranges from **50.00% upto 91.00%** averaging at **66.37%**.\n",
        "\n",
        "- **Employability Test Percentage** ranges from **50.00% upto 98.00%** averaging at **72.10%**.\n",
        "\n",
        "- **MBA Percentage** ranges from **51.21% upto 77.89%** averaging at **62.28%**.\n",
        "\n",
        "- **Salary** ranges from **₹200000/- upto ₹940000/-** averaging at **₹288655/-**."
      ]
    },
    {
      "cell_type": "markdown",
      "metadata": {
        "id": "S5mvRKbpbjSq"
      },
      "source": [
        "<a name = Section42></a>\n",
        "### **4.2 Data Information**\n",
        "\n",
        "- In this section we will see the **information about the types of features**."
      ]
    },
    {
      "cell_type": "code",
      "metadata": {
        "id": "qqCFCElYbaZ7",
        "colab": {
          "base_uri": "https://localhost:8080/"
        },
        "outputId": "a40423bb-5f80-478f-86cc-462f42ffe198"
      },
      "source": [
        "data.info()"
      ],
      "execution_count": null,
      "outputs": [
        {
          "output_type": "stream",
          "text": [
            "<class 'pandas.core.frame.DataFrame'>\n",
            "RangeIndex: 215 entries, 0 to 214\n",
            "Data columns (total 15 columns):\n",
            " #   Column          Non-Null Count  Dtype  \n",
            "---  ------          --------------  -----  \n",
            " 0   sl_no           215 non-null    int64  \n",
            " 1   gender          215 non-null    object \n",
            " 2   ssc_p           215 non-null    float64\n",
            " 3   ssc_b           215 non-null    object \n",
            " 4   hsc_p           215 non-null    float64\n",
            " 5   hsc_b           215 non-null    object \n",
            " 6   hsc_s           215 non-null    object \n",
            " 7   degree_p        215 non-null    float64\n",
            " 8   degree_t        215 non-null    object \n",
            " 9   workex          215 non-null    object \n",
            " 10  etest_p         215 non-null    float64\n",
            " 11  specialisation  215 non-null    object \n",
            " 12  mba_p           215 non-null    float64\n",
            " 13  status          215 non-null    object \n",
            " 14  salary          148 non-null    float64\n",
            "dtypes: float64(6), int64(1), object(8)\n",
            "memory usage: 25.3+ KB\n"
          ],
          "name": "stdout"
        }
      ]
    },
    {
      "cell_type": "markdown",
      "metadata": {
        "id": "foPoveMhbkew"
      },
      "source": [
        "**Observations:**\n",
        "\n",
        "- There are **215 rows** with **15 features**.\n",
        "\n",
        "- There are **8 object** datatype features and **6** **float64** datatypes and **one int64** datatype which is `sl_no`.\n",
        "\n",
        "- We have to convert some of the features into **appropriate** data types."
      ]
    },
    {
      "cell_type": "markdown",
      "metadata": {
        "id": "RIhLwaKObmSw"
      },
      "source": [
        "<a name = Section5></a>\n",
        "\n",
        "---\n",
        "# **5. Data Pre-Processing**\n",
        "---"
      ]
    },
    {
      "cell_type": "markdown",
      "metadata": {
        "id": "qqPyw_4ubnuh"
      },
      "source": [
        "<a name = Section51></a>\n",
        "### **5.1 Pre Profiling Report**\n",
        "\n",
        "- For **quick analysis** pandas profiling is very handy.\n",
        "\n",
        "- Generates profile reports from a pandas DataFrame.\n",
        "\n",
        "- For each column **statistics** are presented in an interactive HTML report."
      ]
    },
    {
      "cell_type": "code",
      "metadata": {
        "id": "ZxzDuAo5baXU"
      },
      "source": [
        "# profile = ProfileReport(df=data)\n",
        "# profile.to_file(output_file='Pre Profiling Report.html')\n",
        "# print('Accomplished!')"
      ],
      "execution_count": null,
      "outputs": []
    },
    {
      "cell_type": "markdown",
      "metadata": {
        "id": "ylhgM1C4br1B"
      },
      "source": [
        "**Observations:**\n",
        "\n",
        "- Dataset has **no duplicate rows**.\n",
        "\n",
        "- **148 students** have been **placed** according to the dataset.\n",
        "\n",
        "- There are **67 missing values (31.2%)** in the **salary** feature which indicates the students who were not placed.\n",
        "\n",
        "- **Precentage scores** of students are **correlated** to each other indicating a student's consistent performance over the years."
      ]
    },
    {
      "cell_type": "markdown",
      "metadata": {
        "id": "9LDQHMs4bw-H"
      },
      "source": [
        "**Performing Operations**"
      ]
    },
    {
      "cell_type": "markdown",
      "metadata": {
        "id": "l39aTF_j_Xms"
      },
      "source": [
        "\n",
        "---\n",
        "**<h4>Question 1:** Create a function that replaces the null values from the salary feature with the mean value of the feature.</h4>\n",
        "\n",
        "---\n",
        "\n",
        "<details>\n",
        "\n",
        "**<summary>Hint:</summary>**\n",
        "\n",
        "- You can use `.fillna(data['salary'].mean())` to remove null values from the feature.\n",
        "\n",
        "</details>"
      ]
    },
    {
      "cell_type": "code",
      "metadata": {
        "id": "8AiMgNnM_qLM"
      },
      "source": [
        "def remove_null(data=None):\n",
        "  data['salary'] = data['salary'].fillna(data['salary'].mean())"
      ],
      "execution_count": null,
      "outputs": []
    },
    {
      "cell_type": "code",
      "metadata": {
        "colab": {
          "base_uri": "https://localhost:8080/"
        },
        "id": "txxq1eXZARSP",
        "outputId": "aa1b6542-6a32-4e5a-ad32-d238bdd398cc"
      },
      "source": [
        "remove_null(data=data)\n",
        "data.isna().sum()"
      ],
      "execution_count": null,
      "outputs": [
        {
          "output_type": "execute_result",
          "data": {
            "text/plain": [
              "sl_no             0\n",
              "gender            0\n",
              "ssc_p             0\n",
              "ssc_b             0\n",
              "hsc_p             0\n",
              "hsc_b             0\n",
              "hsc_s             0\n",
              "degree_p          0\n",
              "degree_t          0\n",
              "workex            0\n",
              "etest_p           0\n",
              "specialisation    0\n",
              "mba_p             0\n",
              "status            0\n",
              "salary            0\n",
              "dtype: int64"
            ]
          },
          "metadata": {
            "tags": []
          },
          "execution_count": 11
        }
      ]
    },
    {
      "cell_type": "markdown",
      "metadata": {
        "id": "6e0cBun8A5An"
      },
      "source": [
        "<a name = Section52></a>\n",
        "### **5.2 Post Profiling Report**\n"
      ]
    },
    {
      "cell_type": "code",
      "metadata": {
        "id": "nYQoFo1-AV4p"
      },
      "source": [
        "# profile = ProfileReport(df=data)\n",
        "# profile.to_file(output_file='Post Profiling Report.html')\n",
        "# print('Accomplished!')"
      ],
      "execution_count": null,
      "outputs": []
    },
    {
      "cell_type": "markdown",
      "metadata": {
        "id": "dxzkOvwzzmT_"
      },
      "source": [
        "**Observations:**\n",
        "\n",
        "- There are **no missing cells** in the dataset.\n",
        "\n",
        "- **Status** is **highly correlated** to all **academic scores**.\n",
        "\n",
        "- **Salary** is **correlated** with **status**."
      ]
    },
    {
      "cell_type": "markdown",
      "metadata": {
        "id": "Qf_OOnAMDUF2"
      },
      "source": [
        "<a name = Section6></a>\n",
        "\n",
        "---\n",
        "# **6. Exploratory Data Analysis**\n",
        "---"
      ]
    },
    {
      "cell_type": "markdown",
      "metadata": {
        "id": "1wGa5oRuDVEZ"
      },
      "source": [
        "\n",
        "---\n",
        "**<h4>Question 2:** Create a function that checks for the distribution of placement status in contrast to gender of the students </h4>\n",
        "\n",
        "---\n",
        "\n",
        "<details>\n",
        "\n",
        "**<summary>Hint:</summary>**\n",
        "\n",
        "- Create a 15x7 inch figure\n",
        "\n",
        "- You can use `sns.counplot` method on gender feature and keep status as hue.\n",
        "\n",
        "- Add cosmetics like grid and title.\n",
        "\n",
        "- Keep the tick size as 12, label size as 14 and title size as 16.\n",
        "\n",
        "</details>"
      ]
    },
    {
      "cell_type": "code",
      "metadata": {
        "id": "jwDnZWdhFm6q"
      },
      "source": [
        "def gender_status(data=None):\n",
        "\n",
        "  # Create a 15x7 inch figure\n",
        "  fig = plt.figure(figsize=(15, 7))\n",
        "\n",
        "  # Create a countplot for gender and keep status as hue\n",
        "  sns.countplot(data=data, y='gender', hue='status', palette='hls')\n",
        "\n",
        "  # Add cosmetics\n",
        "  plt.xticks(fontsize=12)\n",
        "  plt.yticks(fontsize=12)\n",
        "  plt.ylabel(ylabel='Gender', fontsize=14)\n",
        "  plt.xlabel(xlabel='Count', fontsize=14)\n",
        "  plt.title(label='Gender in relation to Placement status', fontsize=16)\n",
        "  plt.grid(b=True)\n",
        "\n",
        "  # Display the plot\n",
        "  plt.show()"
      ],
      "execution_count": null,
      "outputs": []
    },
    {
      "cell_type": "code",
      "metadata": {
        "colab": {
          "base_uri": "https://localhost:8080/",
          "height": 467
        },
        "id": "M08OjzoYFpel",
        "outputId": "8d36063e-cb3a-44ef-cd8b-366ef84b5642"
      },
      "source": [
        "gender_status(data=data)"
      ],
      "execution_count": null,
      "outputs": [
        {
          "output_type": "display_data",
          "data": {
            "image/png": "[encoded data removed]",
            "text/plain": [
              "<Figure size 1080x504 with 1 Axes>"
            ]
          },
          "metadata": {
            "tags": [],
            "needs_background": "light"
          }
        }
      ]
    },
    {
      "cell_type": "markdown",
      "metadata": {
        "id": "QssN_5MBl6Q8"
      },
      "source": [
        "**Observations:**\n",
        "\n",
        "- **Majority** of students are **male**.\n",
        "\n",
        "- **Count-wise**, **males** are **placed the most** corresponding to their high proportion.\n",
        "\n",
        "- But proportion-wise, the **rate of females** being placed is **higher** than the males."
      ]
    },
    {
      "cell_type": "markdown",
      "metadata": {
        "id": "VFrEnrAmDqLT"
      },
      "source": [
        "\n",
        "---\n",
        "**<h4>Question 3:** Create a function that determines if workex has any influence on placement salary of students. </h4>\n",
        "\n",
        "---\n",
        "\n",
        "<details>\n",
        "\n",
        "**<summary>Hint:</summary>**\n",
        "\n",
        "- You can use `sns.catplot` method on salary and workex features.\n",
        "\n",
        "- Add cosmetics like grid and title.\n",
        "\n",
        "- Keep the tick size as 12, label size as 14 and title size as 16.\n",
        "\n",
        "</details>"
      ]
    },
    {
      "cell_type": "code",
      "metadata": {
        "id": "nC2l77IbF7qw"
      },
      "source": [
        "def salary_workex(data=None):\n",
        "\n",
        "  # Create a catplot for salary and workex\n",
        "  sns.catplot(data=data, y='salary', x='workex', height=7, aspect=1.25)\n",
        "\n",
        "  # Add cosmetics\n",
        "  plt.xticks(fontsize=12)\n",
        "  plt.yticks(fontsize=12)\n",
        "  plt.ylabel(ylabel='Salary', fontsize=14)\n",
        "  plt.xlabel(xlabel='Workex', fontsize=14)\n",
        "  plt.title(label='Workex influence on salary', fontsize=16)\n",
        "  plt.grid(b=True)\n",
        "\n",
        "  # Display the plot\n",
        "  plt.show()"
      ],
      "execution_count": null,
      "outputs": []
    },
    {
      "cell_type": "code",
      "metadata": {
        "colab": {
          "base_uri": "https://localhost:8080/",
          "height": 552
        },
        "id": "w0-1yK3wGGy5",
        "outputId": "2c72cea3-df5c-4940-fa3d-9c4714d4386e"
      },
      "source": [
        "salary_workex(data=data[data['status']=='Placed'])"
      ],
      "execution_count": null,
      "outputs": [
        {
          "output_type": "display_data",
          "data": {
            "image/png": "[encoded data removed]",
            "text/plain": [
              "<Figure size 630x504 with 1 Axes>"
            ]
          },
          "metadata": {
            "tags": [],
            "needs_background": "light"
          }
        }
      ]
    },
    {
      "cell_type": "markdown",
      "metadata": {
        "id": "UN28O_KIk-oN"
      },
      "source": [
        "**Observations:**\n",
        "\n",
        "- Almost **equal number** of students are placed **irrespective** of their work **experience**.\n",
        "\n",
        "- But **work experience** plays **some role** for the salary of placed students.\n",
        "\n",
        "- We can see that some students who **have previous work experience** have grabbed **better package**s as compared to students without previous experience."
      ]
    },
    {
      "cell_type": "markdown",
      "metadata": {
        "id": "RfxgNOVKD5B_"
      },
      "source": [
        "\n",
        "---\n",
        "**<h4>Question 4:** Create a function that checks the distribution of the percentages of `ssc`, `hsc`, `etest`, and `mba` features. </h4>\n",
        "\n",
        "---\n",
        "\n",
        "<details>\n",
        "\n",
        "**<summary>Hint:</summary>**\n",
        "\n",
        "- Create a 20x10 inch figure with 4 subplots.\n",
        "\n",
        "- You can use `sns.kdeplot` method on the mentioned features.\n",
        "\n",
        "- Add cosmetics like grid and title.\n",
        "\n",
        "- Keep the label size as 14 and title size as 16.\n",
        "\n",
        "</details>"
      ]
    },
    {
      "cell_type": "code",
      "metadata": {
        "id": "mQwtFkjyGlsp"
      },
      "source": [
        "def student_percent(data=None):\n",
        "\n",
        "  # Create a 20x10 inch figure\n",
        "  fig, ax = plt.subplots(nrows=2, ncols=2, figsize=(20, 10))\n",
        "\n",
        "  # Create a kdeplot for all the mentioned features\n",
        "  sns.kdeplot(data=data, x='ssc_p', ax=ax[0, 0])\n",
        "  sns.kdeplot(data=data, x='hsc_p', ax=ax[0, 1], c='red')\n",
        "  sns.kdeplot(data=data, x='etest_p', ax=ax[1, 0], c='green')\n",
        "  sns.kdeplot(data=data, x='mba_p', ax=ax[1, 1], c='orange')\n",
        "\n",
        "  # Add cosmetics\n",
        "  ax[0 ,0].set_title(label='SSC Percentage', fontsize=16)\n",
        "  ax[0 ,0].set_xlabel(xlabel='Percentage', fontsize=14)\n",
        "  ax[0 ,0].set_ylabel(ylabel='Density', fontsize=14)\n",
        "  ax[0, 0].grid(b=True)\n",
        "\n",
        "  ax[0 ,1].set_title(label='HSC Percentage', fontsize=16)\n",
        "  ax[0 ,1].set_xlabel(xlabel='Percentage', fontsize=14)\n",
        "  ax[0 ,1].set_ylabel(ylabel='Density', fontsize=14)\n",
        "  ax[0, 1].grid(b=True)\n",
        "\n",
        "  ax[1 ,0].set_title(label='Employability test Percentage', fontsize=16)\n",
        "  ax[1 ,0].set_xlabel(xlabel='Percentage', fontsize=14)\n",
        "  ax[1 ,0].set_ylabel(ylabel='Density', fontsize=14)\n",
        "  ax[1, 0].grid(b=True)\n",
        "\n",
        "  ax[1 ,1].set_title(label='MBA Percentage', fontsize=16)\n",
        "  ax[1 ,1].set_xlabel(xlabel='Percentage', fontsize=14)\n",
        "  ax[1 ,1].set_ylabel(ylabel='Density', fontsize=14)\n",
        "  ax[1, 1].grid(b=True)\n",
        "\n",
        "  plt.tight_layout()\n",
        "\n",
        "  # Display the plot\n",
        "  plt.show()"
      ],
      "execution_count": null,
      "outputs": []
    },
    {
      "cell_type": "code",
      "metadata": {
        "colab": {
          "base_uri": "https://localhost:8080/",
          "height": 729
        },
        "id": "FRQsIAo9ZXjS",
        "outputId": "50f5fc63-f2ea-48fe-8b8b-8205672b3cae"
      },
      "source": [
        "student_percent(data=data)"
      ],
      "execution_count": null,
      "outputs": [
        {
          "output_type": "display_data",
          "data": {
            "image/png": "[encoded data removed]",
            "text/plain": [
              "<Figure size 1440x720 with 4 Axes>"
            ]
          },
          "metadata": {
            "tags": [],
            "needs_background": "light"
          }
        }
      ]
    },
    {
      "cell_type": "markdown",
      "metadata": {
        "id": "YIFW-AuSiqkJ"
      },
      "source": [
        "**Observations:**\n",
        "\n",
        "- All the plots are almost **normally distributed** with a slight **skewness** in **e_test** feature."
      ]
    },
    {
      "cell_type": "markdown",
      "metadata": {
        "id": "pLRtyfT7ERtj"
      },
      "source": [
        "\n",
        "---\n",
        "**<h4>Question 5:** Create a function that checks the relationship between the specialisation and placement status of students. </h4>\n",
        "\n",
        "---\n",
        "\n",
        "<details>\n",
        "\n",
        "**<summary>Hint:</summary>**\n",
        "\n",
        "- Create a 15x7 inch figure\n",
        "\n",
        "- You can use `sns.countplot` method on specialisation and keep status as hue.\n",
        "\n",
        "- Add cosmetics like grid and title.\n",
        "\n",
        "- Keep the tick size as 12, label size as 14 and title size as 16.\n",
        "\n",
        "</details>"
      ]
    },
    {
      "cell_type": "code",
      "metadata": {
        "id": "9SVzGKKwOoNd"
      },
      "source": [
        "def specialisation_status(data=None):\n",
        "\n",
        "  # Create a 15x7 inch figure\n",
        "  fig = plt.figure(figsize=(15, 7))\n",
        "\n",
        "  # Create a countplot for specialisation and keep status as hue\n",
        "  sns.countplot(data=data, y='specialisation', hue='status', palette='rocket')\n",
        "\n",
        "  # Add cosmetics\n",
        "  plt.xticks(fontsize=12)\n",
        "  plt.yticks(fontsize=12)\n",
        "  plt.ylabel(ylabel='Specialisation', fontsize=14)\n",
        "  plt.xlabel(xlabel='Count', fontsize=14)\n",
        "  plt.title(label='Specialisation in relation to Placement status', fontsize=16)\n",
        "  plt.grid(b=True)\n",
        "\n",
        "  # Display the plot\n",
        "  plt.show()"
      ],
      "execution_count": null,
      "outputs": []
    },
    {
      "cell_type": "code",
      "metadata": {
        "colab": {
          "base_uri": "https://localhost:8080/",
          "height": 467
        },
        "id": "rL0uV14JOu95",
        "outputId": "c23fbc32-4dae-475f-9dcd-73985ef971d8"
      },
      "source": [
        "specialisation_status(data=data)"
      ],
      "execution_count": null,
      "outputs": [
        {
          "output_type": "display_data",
          "data": {
            "image/png": "[encoded data removed]",
            "text/plain": [
              "<Figure size 1080x504 with 1 Axes>"
            ]
          },
          "metadata": {
            "tags": [],
            "needs_background": "light"
          }
        }
      ]
    },
    {
      "cell_type": "markdown",
      "metadata": {
        "id": "LO0iaFVgiAc2"
      },
      "source": [
        "**Observations:**\n",
        "\n",
        "- Number of students from **Marketing and Finance** are placed as **twice** as number of students from **Marketing and HR**.\n",
        "\n",
        "- **Majority** of students are from **Marketing and Finance** as well.\n",
        "\n",
        "- But the **proportion** of placed students is still **low** in **Marketing and HR** as compared to Marketing and Finance."
      ]
    },
    {
      "cell_type": "markdown",
      "metadata": {
        "id": "FZRB1e7TEnuI"
      },
      "source": [
        "\n",
        "---\n",
        "**<h4>Question 6:** Create a function that checks the proportion of undergraduate fields of the students. </h4>\n",
        "\n",
        "---\n",
        "\n",
        "<details>\n",
        "\n",
        "**<summary>Hint:</summary>**\n",
        "\n",
        "- Create a 15x7 inch figure\n",
        "\n",
        "- You can use `plt.pie` method on degree_t feature.\n",
        "\n",
        "- Add cosmetics like title.\n",
        "\n",
        "- Keep the tick size as 12, label size as 14 and title size as 16.\n",
        "\n",
        "</details>"
      ]
    },
    {
      "cell_type": "code",
      "metadata": {
        "id": "-LxAeP9_eVVH"
      },
      "source": [
        "def ug_fields(data=None):\n",
        "  # Create a 15x7 inch figure\n",
        "  fig = plt.figure(figsize=(15, 7))\n",
        "\n",
        "  # Plot a pieplot of the combined dataframe\n",
        "  plt.pie(data['degree_t'].value_counts(),\n",
        "          autopct='%.1f%%',\n",
        "          radius=1.1,\n",
        "          textprops={'fontsize': 14},\n",
        "          wedgeprops={'edgecolor': 'black', 'linewidth': 1, 'width': 0.5},\n",
        "          pctdistance=1.1,\n",
        "          explode=[0.05, 0.05, 0.05],\n",
        "          labels=data['degree_t'].unique(),\n",
        "          labeldistance=1.25)\n",
        "\n",
        "  # Add cosmetics\n",
        "  plt.suptitle(t='Technical Fields in undergraduate term', fontsize=18, y=1.02)\n",
        "  plt.tight_layout()\n",
        "\n",
        "  # Display the output\n",
        "  plt.show()"
      ],
      "execution_count": null,
      "outputs": []
    },
    {
      "cell_type": "code",
      "metadata": {
        "colab": {
          "base_uri": "https://localhost:8080/",
          "height": 536
        },
        "id": "-APDj5K_ejS3",
        "outputId": "21d29974-5c70-4b60-8a7d-d6a67e1ddbea"
      },
      "source": [
        "ug_fields(data=data)"
      ],
      "execution_count": null,
      "outputs": [
        {
          "output_type": "display_data",
          "data": {
            "image/png": "[encoded data removed]",
            "text/plain": [
              "<Figure size 1080x504 with 1 Axes>"
            ]
          },
          "metadata": {
            "tags": []
          }
        }
      ]
    },
    {
      "cell_type": "markdown",
      "metadata": {
        "id": "vS9e4ln7hgXn"
      },
      "source": [
        "**Observations:**\n",
        "\n",
        "- **Science and Tech** undergraduates **dominate** the MBA placements followed by **Commerce and Management**."
      ]
    },
    {
      "cell_type": "markdown",
      "metadata": {
        "id": "pa9T-FLyePJW"
      },
      "source": [
        "\n",
        "---\n",
        "**<h4>Question 7:** Create a function that checks if mba percentage has any relation with the salary of the placed students. </h4>\n",
        "\n",
        "---\n",
        "\n",
        "<details>\n",
        "\n",
        "**<summary>Hint:</summary>**\n",
        "\n",
        "- Create a 15x7 inch figure\n",
        "\n",
        "- You can use `sns.regplot` method on salary and mba_p features.\n",
        "\n",
        "- Add cosmetics like title.\n",
        "\n",
        "- Keep the tick size as 12, label size as 14 and title size as 16.\n",
        "\n",
        "</details>"
      ]
    },
    {
      "cell_type": "code",
      "metadata": {
        "id": "DwkwAGjge52D"
      },
      "source": [
        "def mba_salary(data=None):\n",
        "\n",
        "  # Create a 15x7 inch figure\n",
        "  fig = plt.figure(figsize=(15, 7))\n",
        "\n",
        "  # Create a countplot for specialisation and keep status as hue\n",
        "  sns.regplot(data=data, x='mba_p', y='salary', color='green')\n",
        "\n",
        "  # Add cosmetics\n",
        "  plt.xticks(fontsize=12)\n",
        "  plt.yticks(fontsize=12)\n",
        "  plt.ylabel(ylabel='Salary', fontsize=14)\n",
        "  plt.xlabel(xlabel='MBA Percentage', fontsize=14)\n",
        "  plt.title(label='Salary on basis of MBA Percentage', fontsize=16)\n",
        "  plt.grid(b=True)\n",
        "\n",
        "  # Display the plot\n",
        "  plt.show()"
      ],
      "execution_count": null,
      "outputs": []
    },
    {
      "cell_type": "code",
      "metadata": {
        "colab": {
          "base_uri": "https://localhost:8080/",
          "height": 467
        },
        "id": "ULsJ2UIHfTWh",
        "outputId": "fb39359d-754f-479b-8048-cd2d342667f2"
      },
      "source": [
        "mba_salary(data=data[data['status']=='Placed'])"
      ],
      "execution_count": null,
      "outputs": [
        {
          "output_type": "display_data",
          "data": {
            "image/png": "[encoded data removed]",
            "text/plain": [
              "<Figure size 1080x504 with 1 Axes>"
            ]
          },
          "metadata": {
            "tags": [],
            "needs_background": "light"
          }
        }
      ]
    },
    {
      "cell_type": "markdown",
      "metadata": {
        "id": "FOy0r-hLf428"
      },
      "source": [
        "**Observations:**\n",
        "\n",
        "- We can see that there is **no relation** between salary and mba percentage of a placed student.\n",
        "\n",
        "- Most of the students have **similar salary ranges** irrespective of their MBA Percentage."
      ]
    },
    {
      "cell_type": "markdown",
      "metadata": {
        "id": "dAcB7RiTcrYf"
      },
      "source": [
        "<a name = Section7></a>\n",
        "\n",
        "---\n",
        "# **7. Data Post-Processing**\n",
        "---"
      ]
    },
    {
      "cell_type": "markdown",
      "metadata": {
        "id": "IQrdHcqBgvHJ"
      },
      "source": [
        "<a name = Section71></a>\n",
        "### **7.1 Feature Encoding**\n",
        "\n",
        "- In this section, we will encode the important categorical features using dummification."
      ]
    },
    {
      "cell_type": "markdown",
      "metadata": {
        "id": "yty6ksYJHLwb"
      },
      "source": [
        "\n",
        "---\n",
        "**<h4>Question 8:** Create a function that performs the following operations:</h4>\n",
        "\n",
        "---\n",
        "\n",
        "- Dummification over the given features:\n",
        "  - `['gender', 'ssc_b', 'hsc_b', 'hsc_s', 'degree_t', 'workex', 'specialisation']`\n",
        "\n",
        "- Maps 1 for 'Placed' value and 0 for 'Not Placed' in the `'status'` feature.\n",
        "\n",
        "<details>\n",
        "\n",
        "**<summary>Hint:</summary>**\n",
        "\n",
        "- You can use `pd.get_dummies()` to dummify the features.\n",
        "\n",
        "- You can use `.map()` method to convert the values of the status feature.\n",
        "\n",
        "</details>"
      ]
    },
    {
      "cell_type": "code",
      "metadata": {
        "id": "pQrkA1U0Hv6M"
      },
      "source": [
        "def encode_features(data=None):\n",
        "  # Perform Dummification over the features and drop those features\n",
        "  dummified = data.join(pd.get_dummies(data[['gender', 'ssc_b', 'hsc_b', 'hsc_s', 'degree_t', 'workex', 'specialisation']], drop_first=True))\n",
        "  dummified.drop(['gender', 'ssc_b', 'hsc_b', 'hsc_s', 'degree_t', 'workex', 'specialisation'], axis=1, inplace=True)\n",
        "\n",
        "  # Map the status feature\n",
        "  dummified['status'] = dummified['status'].map(lambda x: 1 if x=='Placed' else 0)\n",
        "\n",
        "  return dummified"
      ],
      "execution_count": null,
      "outputs": []
    },
    {
      "cell_type": "code",
      "metadata": {
        "id": "gT4VVyCaHygK"
      },
      "source": [
        "dummified = encode_features(data=data)"
      ],
      "execution_count": null,
      "outputs": []
    },
    {
      "cell_type": "markdown",
      "metadata": {
        "id": "7qDM2UjEJ6iG"
      },
      "source": [
        "<a name = Section72></a>\n",
        "### **7.2 Feature Extraction**\n",
        "\n",
        "- In this section, we will extract the important features and seperate the independent and dependent variables."
      ]
    },
    {
      "cell_type": "markdown",
      "metadata": {
        "id": "H3ThcctJnrMH"
      },
      "source": [
        "---\n",
        "**<h4>Question 9:** Create a function that creates two dataframes for dependent and independent features.</h4>\n",
        "\n",
        "---\n",
        "\n",
        "<details>\n",
        "\n",
        "**<summary>Hint:</summary>**\n",
        "\n",
        "- Create input dataframe X by dropping only \"nephritis\" feature from axis 1.\n",
        "\n",
        "- Create target series by using \"nephritis\" as value.\n",
        "\n",
        "</details>\n"
      ]
    },
    {
      "cell_type": "code",
      "metadata": {
        "id": "NmV_PvKMobxn"
      },
      "source": [
        "def seperate_Xy(data=None):\n",
        "  X = data.drop(labels=['sl_no', 'salary', 'status'], axis=1)\n",
        "  y = data['status']\n",
        "  return X, y"
      ],
      "execution_count": null,
      "outputs": []
    },
    {
      "cell_type": "code",
      "metadata": {
        "id": "vHdxyGC2gqvC"
      },
      "source": [
        "X, y = seperate_Xy(data=dummified)"
      ],
      "execution_count": null,
      "outputs": []
    },
    {
      "cell_type": "markdown",
      "metadata": {
        "id": "aHC_XfX7g_WZ"
      },
      "source": [
        "<a name = Section73></a>\n",
        "### **7.3 Data Preparation**\n",
        "\n",
        "- Now we will **split** our **data** in **training** and **testing** part for further development."
      ]
    },
    {
      "cell_type": "markdown",
      "metadata": {
        "id": "YAysVX6qqHKD"
      },
      "source": [
        "---\n",
        "**<h4>Question 10:** Create a function that splits the data into train and test datasets while keeping random state as 42.</h4>\n",
        "\n",
        "---\n",
        "\n",
        "<details>\n",
        "\n",
        "**<summary>Hint:</summary>**\n",
        "\n",
        "- Use `train_test_split()` to split the dataset.\n",
        "\n",
        "- Use `test_size` of **0.30**\n",
        "\n",
        "- Use `random_state` equal to **42**.\n",
        "\n",
        "- **Stratify** the target variable.\n",
        "\n",
        "</details>"
      ]
    },
    {
      "cell_type": "code",
      "metadata": {
        "id": "ATpzPPfsgqrO"
      },
      "source": [
        "def Xy_splitter(X=None, y=None):\n",
        "  X_train, X_test, y_train, y_test = train_test_split(X, y, test_size = 0.2, random_state = 42, stratify = y)\n",
        "\n",
        "  print('Training Data Shape:', X_train.shape, y_train.shape)\n",
        "  print('Testing Data Shape:', X_test.shape, y_test.shape)\n",
        "  return X_train, X_test, y_train, y_test"
      ],
      "execution_count": null,
      "outputs": []
    },
    {
      "cell_type": "code",
      "metadata": {
        "colab": {
          "base_uri": "https://localhost:8080/"
        },
        "id": "6GV5DEP2p__4",
        "outputId": "fbca7fd6-79a9-44a2-c9f4-d479569ebdd1"
      },
      "source": [
        "X_train, X_test, y_train, y_test = Xy_splitter(X=X, y=y)"
      ],
      "execution_count": null,
      "outputs": [
        {
          "output_type": "stream",
          "text": [
            "Training Data Shape: (172, 14) (172,)\n",
            "Testing Data Shape: (43, 14) (43,)\n"
          ],
          "name": "stdout"
        }
      ]
    },
    {
      "cell_type": "markdown",
      "metadata": {
        "id": "DaB5RrKXKhlH"
      },
      "source": [
        "<a name = Section74></a>\n",
        "### **7.4 Data Preparation**\n",
        "\n",
        "- In this section, we will perform scaling over the independent dataframe using a StandardScaler."
      ]
    },
    {
      "cell_type": "markdown",
      "metadata": {
        "id": "dN5RS4ULKhlI"
      },
      "source": [
        "---\n",
        "**<h4>Question 11:** Create a function that splits the data into train and test datasets while keeping random state as 42.</h4>\n",
        "\n",
        "---\n",
        "\n",
        "<details>\n",
        "\n",
        "**<summary>Hint:</summary>**\n",
        "\n",
        "- You can use `StandardScaler()` method for the scaling of features.\n",
        "\n",
        "- Instantiate a `StandardScaler()`.\n",
        "\n",
        "- Apply `.fit_transform()` method over the independent training feature (X_train).\n",
        "\n",
        "- Use `.transform()` on X_test to transform the X_test as well\n",
        "\n",
        "- Create new dataframes using the output of `.fit_transform()` and `.transform()` and the columns of the input dataframe.\n",
        "\n",
        "\n",
        "</details>"
      ]
    },
    {
      "cell_type": "code",
      "metadata": {
        "id": "zlE_Sx9AJ1-N"
      },
      "source": [
        "def scale_features(X_train=None, X_test=None):\n",
        "  sc = StandardScaler()\n",
        "  scaled_X_train = sc.fit_transform(X_train)\n",
        "  scaled_X_test = sc.transform(X_test)\n",
        "  X_train_frame = pd.DataFrame(data=scaled_X_train, columns=X_train.columns)\n",
        "  X_test_frame = pd.DataFrame(data=scaled_X_test, columns=X_test.columns)\n",
        "  return X_train_frame, X_test_frame"
      ],
      "execution_count": null,
      "outputs": []
    },
    {
      "cell_type": "code",
      "metadata": {
        "id": "JbL6k1wvLs05"
      },
      "source": [
        "scaled_X_train, scaled_X_test = scale_features(X_train=X_train, X_test=X_test)"
      ],
      "execution_count": null,
      "outputs": []
    },
    {
      "cell_type": "markdown",
      "metadata": {
        "id": "coaGUA33hDGK"
      },
      "source": [
        "<a name = Section8></a>\n",
        "\n",
        "---\n",
        "# **8. Model Development & Evaluation**\n",
        "---\n",
        "\n",
        "- In this section we will develop a random forest classification model, tune it and select the model with best parameterrs."
      ]
    },
    {
      "cell_type": "markdown",
      "metadata": {
        "id": "8rt2ktmzqzwW"
      },
      "source": [
        "<a name = Section81></a>\n",
        "\n",
        "### **8.1 Base Model Development & Evaluation**\n",
        "\n",
        "\n",
        "- In this section we will develop a simple random forest classification model and evaluate it based on accuracy, precision and recall scores."
      ]
    },
    {
      "cell_type": "markdown",
      "metadata": {
        "id": "EyKRzXRRgLkG"
      },
      "source": [
        "---\n",
        "**<h4>Question 12:** Create a function that instantiates a RandomForestClassifier, fits the model on train set and evaluates it on test set using appropriate metrics.</h4>\n",
        "\n",
        "---\n",
        "\n",
        "<details>\n",
        "\n",
        "**<summary>Hint:</summary>**\n",
        "\n",
        "- Instantiate a Random Forest classifier model using RandomForestClassifier().\n",
        "\n",
        "- Keep `class_weight='balanced'`.\n",
        "\n",
        "- `Fit` the model on training set.\n",
        "\n",
        "- `Predict` the values on the train set and the test set.\n",
        "\n",
        "- Evaluate the model using the `accuracy_score` on the train and test set.\n",
        "\n",
        "- Calculate Precision and Recall of the model.\n",
        "\n",
        "</details>"
      ]
    },
    {
      "cell_type": "code",
      "metadata": {
        "id": "RQbPcrKVsCNd"
      },
      "source": [
        "def train_n_eval():\n",
        "\n",
        "  # Instantiating a random forest classifier\n",
        "  clf = RandomForestClassifier(class_weight='balanced')\n",
        "\n",
        "  # Extracting model name\n",
        "  model_name = type(clf).__name__\n",
        "\n",
        "  # Fit the model on train data\n",
        "  clf.fit(scaled_X_train, y_train)\n",
        "\n",
        "  # Make predictions using train data\n",
        "  y_pred_train = clf.predict(scaled_X_train)\n",
        "\n",
        "  # Make predictions using test data\n",
        "  y_pred = clf.predict(scaled_X_test)\n",
        "\n",
        "  # Calculate train accuracy of the model\n",
        "  clf_train_acc = accuracy_score(y_train, y_pred_train)\n",
        "\n",
        "  # Calculate test accuracy of the model\n",
        "  clf_acc = accuracy_score(y_test, y_pred)\n",
        "\n",
        "  # Display the accuracy of the model\n",
        "  print('Performance Metrics for', model_name, ':')\n",
        "  print('[Accuracy-Score Train]:', clf_train_acc)\n",
        "  print('[Accuracy-Score Test]:', clf_acc)\n",
        "  print('[Recall:]', recall_score(y_pred,y_test))\n",
        "  print('[Precision:]', precision_score(y_pred,y_test))\n",
        "\n",
        "  scores = pd.DataFrame([{'Model Name':'Random Forest Classifier (Base)',\n",
        "                          'Train Accuracy':clf_train_acc,\n",
        "                          'Test Accuracy':clf_acc,\n",
        "                          'Recall Score':recall_score(y_pred,y_test),\n",
        "                          'Precision Score':precision_score(y_pred,y_test)}])\n",
        "\n",
        "  return scores"
      ],
      "execution_count": null,
      "outputs": []
    },
    {
      "cell_type": "code",
      "metadata": {
        "colab": {
          "base_uri": "https://localhost:8080/",
          "height": 172
        },
        "id": "-lYZi1rAsxNd",
        "outputId": "7e388f51-6b89-4d01-c082-2286bdad4219"
      },
      "source": [
        "scores = train_n_eval()\n",
        "scores.head()"
      ],
      "execution_count": null,
      "outputs": [
        {
          "output_type": "stream",
          "text": [
            "Performance Metrics for RandomForestClassifier :\n",
            "[Accuracy-Score Train]: 1.0\n",
            "[Accuracy-Score Test]: 0.8604651162790697\n",
            "[Recall:] 0.8529411764705882\n",
            "[Precision:] 0.9666666666666667\n"
          ],
          "name": "stdout"
        },
        {
          "output_type": "execute_result",
          "data": {
            "text/html": [
              "<div>\n",
              "<style scoped>\n",
              "    .dataframe tbody tr th:only-of-type {\n",
              "        vertical-align: middle;\n",
              "    }\n",
              "\n",
              "    .dataframe tbody tr th {\n",
              "        vertical-align: top;\n",
              "    }\n",
              "\n",
              "    .dataframe thead th {\n",
              "        text-align: right;\n",
              "    }\n",
              "</style>\n",
              "<table border=\"1\" class=\"dataframe\">\n",
              "  <thead>\n",
              "    <tr style=\"text-align: right;\">\n",
              "      <th></th>\n",
              "      <th>Model Name</th>\n",
              "      <th>Train Accuracy</th>\n",
              "      <th>Test Accuracy</th>\n",
              "      <th>Recall Score</th>\n",
              "      <th>Precision Score</th>\n",
              "    </tr>\n",
              "  </thead>\n",
              "  <tbody>\n",
              "    <tr>\n",
              "      <th>0</th>\n",
              "      <td>Random Forest Classifier (Base)</td>\n",
              "      <td>1.00</td>\n",
              "      <td>0.86</td>\n",
              "      <td>0.85</td>\n",
              "      <td>0.97</td>\n",
              "    </tr>\n",
              "  </tbody>\n",
              "</table>\n",
              "</div>"
            ],
            "text/plain": [
              "                        Model Name  Train Accuracy  Test Accuracy  \\\n",
              "0  Random Forest Classifier (Base)            1.00           0.86   \n",
              "\n",
              "   Recall Score  Precision Score  \n",
              "0          0.85             0.97  "
            ]
          },
          "metadata": {
            "tags": []
          },
          "execution_count": 147
        }
      ]
    },
    {
      "cell_type": "markdown",
      "metadata": {
        "id": "gM-lhzUWO_Ev"
      },
      "source": [
        "**Observations:**\n",
        "\n",
        "- We have obtained a test **accuracy** score of **0.86**.\n",
        "\n",
        "- It is **not the best** achieved score and can be further **improved** upon by tuning the model."
      ]
    },
    {
      "cell_type": "markdown",
      "metadata": {
        "id": "9oB7wMv1rHXm"
      },
      "source": [
        "<a name = Section82></a>\n",
        "\n",
        "### **8.2 Hyperparameter Tuning**\n",
        "\n",
        "\n",
        "- In this section we will tune the model and select the best model available for further model development."
      ]
    },
    {
      "cell_type": "markdown",
      "metadata": {
        "id": "OBR49pxnn2Th"
      },
      "source": [
        "---\n",
        "**<h4>Question 13:** Create a function that performs tuning on a Random Forest using GridSearchCV and returns the best model.</h4>\n",
        "\n",
        "---\n",
        "\n",
        "<details>\n",
        "\n",
        "**<summary>Hint:</summary>**\n",
        "\n",
        "- Instantiate a Random Forest classifier model using RandomForestClassifier().\n",
        "\n",
        "- Keep `class_weight='balanced'` and `random_state=42`.\n",
        "\n",
        "- Use the following parameter grid:\n",
        "\n",
        "`param_grid_rfc = { 'n_estimators': [100, 500, 1000],\n",
        "                  'max_features': ['auto', 'sqrt'],\n",
        "                  'max_depth' : [3, 4, 5, 6, 7, 8, 9, 10],\n",
        "                  'criterion' :['gini', 'entropy']}`\n",
        "\n",
        "\n",
        "- Instantiate a GridSearchCV object with cv=5.\n",
        "\n",
        "- `Fit` the model on training set.\n",
        "\n",
        "- Evaluate the model using the `accuracy_score` on the train and test set.\n",
        "\n",
        "</details>"
      ]
    },
    {
      "cell_type": "code",
      "metadata": {
        "id": "-dWez8pWUuLQ"
      },
      "source": [
        "def tune_model():\n",
        "\n",
        "  # Creating a parameter grid for Random Forest\n",
        "  param_grid_rfc = { 'n_estimators': [100, 500, 1000],\n",
        "                    'max_features': ['auto', 'sqrt'],\n",
        "                    'max_depth' : [3, 4, 5, 6, 7, 8, 9, 10],\n",
        "                    'criterion' :['gini', 'entropy']}\n",
        "\n",
        "  rfc = RandomForestClassifier(random_state=42, class_weight='balanced')\n",
        "\n",
        "  clf = GridSearchCV(estimator=rfc, param_grid=param_grid_rfc, cv= 5)\n",
        "  clf.fit(scaled_X_train, y_train)\n",
        "\n",
        "  print(\"[Hyperparameters]:\", clf.best_params_)\n",
        "  print(\"[Train Score]:\", clf.best_score_)\n",
        "  print(\"[Test Score]:\", accuracy_score(y_test, clf.predict(scaled_X_test)))\n",
        "\n",
        "  return clf.best_estimator_"
      ],
      "execution_count": null,
      "outputs": []
    },
    {
      "cell_type": "code",
      "metadata": {
        "colab": {
          "base_uri": "https://localhost:8080/"
        },
        "id": "0aqfEhQlo76-",
        "outputId": "49864ae2-e5d3-4c49-c295-a1a86eba2ad4"
      },
      "source": [
        "best_clf = tune_model()"
      ],
      "execution_count": null,
      "outputs": [
        {
          "output_type": "stream",
          "text": [
            "[Hyperparameters]: {'criterion': 'gini', 'max_depth': 3, 'max_features': 'auto', 'n_estimators': 500}\n",
            "[Train Score]: 0.8433613445378152\n",
            "[Test Score]: 0.8837209302325582\n"
          ],
          "name": "stdout"
        }
      ]
    },
    {
      "cell_type": "markdown",
      "metadata": {
        "id": "jpg6gFedsLnC"
      },
      "source": [
        "<a name = Section83></a>\n",
        "\n",
        "### **8.3 Tuned Model Development & Evaluation**\n",
        "\n",
        "\n",
        "- In this section we will fit a tuned random forest classifier and evaluate it based on accuracy, precision and recall scores."
      ]
    },
    {
      "cell_type": "markdown",
      "metadata": {
        "id": "MqcrYXucp9ci"
      },
      "source": [
        "---\n",
        "**<h4>Question 14:** Create a function that fits the best obtained model on train set and evaluates it on test set using appropriate metrics.</h4>\n",
        "\n",
        "---\n",
        "\n",
        "<details>\n",
        "\n",
        "**<summary>Hint:</summary>**\n",
        "\n",
        "- `Fit` the model on training set.\n",
        "\n",
        "- `Predict` the values on the train set and the test set.\n",
        "\n",
        "- Evaluate the model using the `accuracy_score` on the train and test set.\n",
        "\n",
        "- Calculate Precision and Recall of the model.\n",
        "\n",
        "</details>"
      ]
    },
    {
      "cell_type": "code",
      "metadata": {
        "id": "tgdyBIUaWI3R"
      },
      "source": [
        "def train_n_eval_best(rf=None, scores=None):\n",
        "\n",
        "  # Fit the model on train set\n",
        "  rf.fit(scaled_X_train, y_train)\n",
        "\n",
        "  # Make predictions on train data\n",
        "  y_pred_train = rf.predict(scaled_X_train)\n",
        "\n",
        "  # Make predictions on test data\n",
        "  y_pred = rf.predict(scaled_X_test)\n",
        "\n",
        "  # Calculate train accuracy of the model\n",
        "  rf_train_acc = accuracy_score(y_train, y_pred_train)\n",
        "\n",
        "  # Calculate test accuracy of the model\n",
        "  rf_acc = accuracy_score(y_test, y_pred)\n",
        "\n",
        "  # Display the accuracy of the model\n",
        "  print('Performance Metrics for best Random Forest Classifier:')\n",
        "  print('[Accuracy-Score Train]:', rf_train_acc)\n",
        "  print('[Accuracy-Score Test]:', rf_acc)\n",
        "  print('[Recall:]', recall_score(y_pred, y_test))\n",
        "  print('[Precision:]', precision_score(y_pred, y_test))\n",
        "\n",
        "  score = pd.DataFrame([{'Model Name':'Random Forest Classifier (Tuned)',\n",
        "                          'Train Accuracy':rf_train_acc,\n",
        "                          'Test Accuracy':rf_acc,\n",
        "                          'Recall Score':recall_score(y_pred, y_test),\n",
        "                          'Precision Score':precision_score(y_pred, y_test)}])\n",
        "\n",
        "  scores = scores.append(score, ignore_index=True)\n",
        "\n",
        "  return scores"
      ],
      "execution_count": null,
      "outputs": []
    },
    {
      "cell_type": "code",
      "metadata": {
        "colab": {
          "base_uri": "https://localhost:8080/",
          "height": 203
        },
        "id": "uBp2J3KCpLr8",
        "outputId": "51659121-ee49-40a4-d902-6833608600ff"
      },
      "source": [
        "scores = train_n_eval_best(rf = best_clf, scores = scores)\n",
        "scores"
      ],
      "execution_count": null,
      "outputs": [
        {
          "output_type": "stream",
          "text": [
            "Performance Metrics for best Random Forest Classifier:\n",
            "[Accuracy-Score Train]: 0.9069767441860465\n",
            "[Accuracy-Score Test]: 0.8837209302325582\n",
            "[Recall:] 0.9032258064516129\n",
            "[Precision:] 0.9333333333333333\n"
          ],
          "name": "stdout"
        },
        {
          "output_type": "execute_result",
          "data": {
            "text/html": [
              "<div>\n",
              "<style scoped>\n",
              "    .dataframe tbody tr th:only-of-type {\n",
              "        vertical-align: middle;\n",
              "    }\n",
              "\n",
              "    .dataframe tbody tr th {\n",
              "        vertical-align: top;\n",
              "    }\n",
              "\n",
              "    .dataframe thead th {\n",
              "        text-align: right;\n",
              "    }\n",
              "</style>\n",
              "<table border=\"1\" class=\"dataframe\">\n",
              "  <thead>\n",
              "    <tr style=\"text-align: right;\">\n",
              "      <th></th>\n",
              "      <th>Model Name</th>\n",
              "      <th>Train Accuracy</th>\n",
              "      <th>Test Accuracy</th>\n",
              "      <th>Recall Score</th>\n",
              "      <th>Precision Score</th>\n",
              "    </tr>\n",
              "  </thead>\n",
              "  <tbody>\n",
              "    <tr>\n",
              "      <th>0</th>\n",
              "      <td>Random Forest Classifier (Base)</td>\n",
              "      <td>1.00</td>\n",
              "      <td>0.86</td>\n",
              "      <td>0.85</td>\n",
              "      <td>0.97</td>\n",
              "    </tr>\n",
              "    <tr>\n",
              "      <th>1</th>\n",
              "      <td>Random Forest Classifier (Tuned)</td>\n",
              "      <td>0.91</td>\n",
              "      <td>0.88</td>\n",
              "      <td>0.90</td>\n",
              "      <td>0.93</td>\n",
              "    </tr>\n",
              "  </tbody>\n",
              "</table>\n",
              "</div>"
            ],
            "text/plain": [
              "                         Model Name  Train Accuracy  Test Accuracy  \\\n",
              "0   Random Forest Classifier (Base)            1.00           0.86   \n",
              "1  Random Forest Classifier (Tuned)            0.91           0.88   \n",
              "\n",
              "   Recall Score  Precision Score  \n",
              "0          0.85             0.97  \n",
              "1          0.90             0.93  "
            ]
          },
          "metadata": {
            "tags": []
          },
          "execution_count": 149
        }
      ]
    },
    {
      "cell_type": "markdown",
      "metadata": {
        "id": "akosF5w4jUs6"
      },
      "source": [
        "**Observations:**\n",
        "\n",
        "- We can see that the new model **fits well** on the train set and gives good scores with test set as well.\n",
        "\n",
        "- We have seen **improvement** in **recall** score **without** much **compromising** **precision** score.\n",
        "\n",
        "- We can use this model to predict if a **student** will be **placed or not** based on their past data."
      ]
    },
    {
      "cell_type": "markdown",
      "metadata": {
        "id": "VRQxc--togCt"
      },
      "source": [
        "<a name = Section9></a>\n",
        "\n",
        "---\n",
        "# **9. Conclusion**\n",
        "---\n",
        "\n",
        "- We have observed that **academics** play an **important** role in getting a student **placed**.\n",
        "\n",
        "- **Salary** of a student is also slightly influenced by **previous work experience**.\n",
        "\n",
        "- Proportion of **females** getting **placed** is **higher** than males.\n",
        "\n",
        "- **Finance and Marketing** specialisations have **more chances** of getting placed than **Finance and HR**.\n",
        "\n",
        "- The developed model can be used for **testing on real-world data** to determine the placement scenario of this year's students."
      ]
    }
  ]
}